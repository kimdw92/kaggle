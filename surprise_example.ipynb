{
  "nbformat": 4,
  "nbformat_minor": 0,
  "metadata": {
    "colab": {
      "name": "surprise_example.ipynb",
      "provenance": [],
      "authorship_tag": "ABX9TyM3VrQdbIs6Sd5o/qHlhkCm",
      "include_colab_link": true
    },
    "kernelspec": {
      "name": "python3",
      "display_name": "Python 3"
    },
    "language_info": {
      "name": "python"
    }
  },
  "cells": [
    {
      "cell_type": "markdown",
      "metadata": {
        "id": "view-in-github",
        "colab_type": "text"
      },
      "source": [
        "<a href=\"https://colab.research.google.com/github/kimdw92/kaggle_study/blob/main/surprise_example.ipynb\" target=\"_parent\"><img src=\"https://colab.research.google.com/assets/colab-badge.svg\" alt=\"Open In Colab\"/></a>"
      ]
    },
    {
      "cell_type": "markdown",
      "metadata": {
        "id": "sJz1fcHhR8GL"
      },
      "source": [
        "# 파이썬 추천 시스템 패키지 - Surprise\n",
        "Surprise는 추천 시스템을 위한 파이썬 기반의 사이킷런과 유사한 API와 프레임워크를 제공한다."
      ]
    },
    {
      "cell_type": "code",
      "metadata": {
        "colab": {
          "base_uri": "https://localhost:8080/"
        },
        "id": "d48on4L8Qxye",
        "outputId": "10dad390-5627-4ba8-b821-02a8c249e43e"
      },
      "source": [
        "!pip install scikit-surprise"
      ],
      "execution_count": 2,
      "outputs": [
        {
          "output_type": "stream",
          "text": [
            "Collecting scikit-surprise\n",
            "  Downloading scikit-surprise-1.1.1.tar.gz (11.8 MB)\n",
            "\u001b[K     |████████████████████████████████| 11.8 MB 4.6 MB/s \n",
            "\u001b[?25hRequirement already satisfied: joblib>=0.11 in /usr/local/lib/python3.7/dist-packages (from scikit-surprise) (1.0.1)\n",
            "Requirement already satisfied: numpy>=1.11.2 in /usr/local/lib/python3.7/dist-packages (from scikit-surprise) (1.19.5)\n",
            "Requirement already satisfied: scipy>=1.0.0 in /usr/local/lib/python3.7/dist-packages (from scikit-surprise) (1.4.1)\n",
            "Requirement already satisfied: six>=1.10.0 in /usr/local/lib/python3.7/dist-packages (from scikit-surprise) (1.15.0)\n",
            "Building wheels for collected packages: scikit-surprise\n",
            "  Building wheel for scikit-surprise (setup.py) ... \u001b[?25l\u001b[?25hdone\n",
            "  Created wheel for scikit-surprise: filename=scikit_surprise-1.1.1-cp37-cp37m-linux_x86_64.whl size=1617739 sha256=b97e217d0cbb3d95be70828f8b9d8789383131986aa72d24e573ab69eeb52cd0\n",
            "  Stored in directory: /root/.cache/pip/wheels/76/44/74/b498c42be47b2406bd27994e16c5188e337c657025ab400c1c\n",
            "Successfully built scikit-surprise\n",
            "Installing collected packages: scikit-surprise\n",
            "Successfully installed scikit-surprise-1.1.1\n"
          ],
          "name": "stdout"
        }
      ]
    },
    {
      "cell_type": "code",
      "metadata": {
        "colab": {
          "base_uri": "https://localhost:8080/"
        },
        "id": "u6_6K7-fQ0MO",
        "outputId": "0b8ce492-a37f-4abc-c2f5-0112c3f41ef4"
      },
      "source": [
        "import surprise \n",
        "\n",
        "print(surprise.__version__)"
      ],
      "execution_count": 3,
      "outputs": [
        {
          "output_type": "stream",
          "text": [
            "1.1.1\n"
          ],
          "name": "stdout"
        }
      ]
    },
    {
      "cell_type": "markdown",
      "metadata": {
        "id": "2g3O0bDJSRzl"
      },
      "source": [
        "## Surprise를 이용한 추천 시스템 구축 예제\n",
        "\n",
        "SVD 행렬 분해를 통한 잠재 요인 CF를 수행해보자"
      ]
    },
    {
      "cell_type": "code",
      "metadata": {
        "id": "MxatqwSfSQDl"
      },
      "source": [
        "from surprise import SVD\n",
        "from surprise import Dataset \n",
        "from surprise import accuracy \n",
        "from surprise.model_selection import train_test_split"
      ],
      "execution_count": 4,
      "outputs": []
    },
    {
      "cell_type": "markdown",
      "metadata": {
        "id": "XFzvzsBsSl2D"
      },
      "source": [
        "Surprise는 MovieLens 사이트에서 제공하는 과거 버전의 데이터 세트를 가져오는 API를 제공한다.  \n",
        "'ml-100k'(10만 개 평점 데이터) 또는 'ml-1m'(100만 개 평점 데이터) 등 을 제공한다."
      ]
    },
    {
      "cell_type": "code",
      "metadata": {
        "colab": {
          "base_uri": "https://localhost:8080/"
        },
        "id": "hjseyKO-SVnE",
        "outputId": "86b243d9-948d-42d1-a43b-98f7221b2aca"
      },
      "source": [
        "data = Dataset.load_builtin('ml-100k') \n",
        "trainset, testset = train_test_split(data, test_size=.25, random_state=0)"
      ],
      "execution_count": 5,
      "outputs": [
        {
          "output_type": "stream",
          "text": [
            "Dataset ml-100k could not be found. Do you want to download it? [Y/n] Y\n",
            "Trying to download dataset from http://files.grouplens.org/datasets/movielens/ml-100k.zip...\n",
            "Done! Dataset ml-100k has been saved to /root/.surprise_data/ml-100k\n"
          ],
          "name": "stdout"
        }
      ]
    },
    {
      "cell_type": "markdown",
      "metadata": {
        "id": "RuLsmiLOaf5i"
      },
      "source": [
        "Surprise에 사용자-아이템 평점 데이터를 적용할 때 주의해야 할 점은 row 레벨의 데이터를 그대로 사용해야 한다는 것이다. 판다스의 pivot_table 함수로 굳이 사용자-row, 아이템-col 형태로 바꾸어줄 필요가 없다."
      ]
    },
    {
      "cell_type": "code",
      "metadata": {
        "colab": {
          "base_uri": "https://localhost:8080/"
        },
        "id": "cQdnVHBRS-J7",
        "outputId": "f8fd1d63-fa38-4547-e332-619781957783"
      },
      "source": [
        "algo = SVD()\n",
        "algo.fit(trainset)"
      ],
      "execution_count": 13,
      "outputs": [
        {
          "output_type": "execute_result",
          "data": {
            "text/plain": [
              "<surprise.prediction_algorithms.matrix_factorization.SVD at 0x7fb5d9bf0190>"
            ]
          },
          "metadata": {
            "tags": []
          },
          "execution_count": 13
        }
      ]
    },
    {
      "cell_type": "markdown",
      "metadata": {
        "id": "KVt18iOgcUHA"
      },
      "source": [
        "Surpirse에서 추천을 예측하는 메소드는 test()와 predict() 두 개이다.  \n",
        "test()는 전체 평점 데이터에 대해서 추천을 예측한다."
      ]
    },
    {
      "cell_type": "code",
      "metadata": {
        "colab": {
          "base_uri": "https://localhost:8080/"
        },
        "id": "JczigdIBa58c",
        "outputId": "0f272eba-eb15-49f0-8dc4-dc9dcef0b4e8"
      },
      "source": [
        "predictions = algo.test( testset )\n",
        "print('prediction type :',type(predictions), ' size:',len(predictions))\n",
        "print('prediction 결과의 최초 5개 추출')\n",
        "predictions[:5]"
      ],
      "execution_count": 14,
      "outputs": [
        {
          "output_type": "stream",
          "text": [
            "prediction type : <class 'list'>  size: 25000\n",
            "prediction 결과의 최초 5개 추출\n"
          ],
          "name": "stdout"
        },
        {
          "output_type": "execute_result",
          "data": {
            "text/plain": [
              "[Prediction(uid='120', iid='282', r_ui=4.0, est=3.5430079384862334, details={'was_impossible': False}),\n",
              " Prediction(uid='882', iid='291', r_ui=4.0, est=3.8215663073867616, details={'was_impossible': False}),\n",
              " Prediction(uid='535', iid='507', r_ui=5.0, est=4.1132783209647865, details={'was_impossible': False}),\n",
              " Prediction(uid='697', iid='244', r_ui=5.0, est=3.618968369243448, details={'was_impossible': False}),\n",
              " Prediction(uid='751', iid='385', r_ui=4.0, est=3.519361060607423, details={'was_impossible': False})]"
            ]
          },
          "metadata": {
            "tags": []
          },
          "execution_count": 14
        }
      ]
    },
    {
      "cell_type": "markdown",
      "metadata": {
        "id": "QKby2Vu6cJuf"
      },
      "source": [
        "SVD 알고리즘 객체의 test 메서드의 호출 결과는 파이썬 리스트이며 내부에는 Prediction 객체를 가진다."
      ]
    },
    {
      "cell_type": "code",
      "metadata": {
        "colab": {
          "base_uri": "https://localhost:8080/"
        },
        "id": "PQtsvkflbjFd",
        "outputId": "063df639-4a38-463c-e147-fbe77894beb9"
      },
      "source": [
        "[ (pred.uid, pred.iid, pred.est) for pred in predictions[:3] ]"
      ],
      "execution_count": 15,
      "outputs": [
        {
          "output_type": "execute_result",
          "data": {
            "text/plain": [
              "[('120', '282', 3.5430079384862334),\n",
              " ('882', '291', 3.8215663073867616),\n",
              " ('535', '507', 4.1132783209647865)]"
            ]
          },
          "metadata": {
            "tags": []
          },
          "execution_count": 15
        }
      ]
    },
    {
      "cell_type": "markdown",
      "metadata": {
        "id": "df4h5LLLcjP5"
      },
      "source": [
        "predict()는 개별 사용자의 아이템에 대한 추천 평점을 예측해 준다."
      ]
    },
    {
      "cell_type": "code",
      "metadata": {
        "colab": {
          "base_uri": "https://localhost:8080/"
        },
        "id": "xLMecDincRjx",
        "outputId": "56820bce-3578-414e-9d2b-a4ae9cc30db7"
      },
      "source": [
        "# 사용자 아이디, 아이템 아이디는 문자열로 입력해야 함. \n",
        "uid = str(196)\n",
        "iid = str(302)\n",
        "pred = algo.predict(uid, iid)\n",
        "print(pred)"
      ],
      "execution_count": 16,
      "outputs": [
        {
          "output_type": "stream",
          "text": [
            "user: 196        item: 302        r_ui = None   est = 4.58   {'was_impossible': False}\n"
          ],
          "name": "stdout"
        }
      ]
    },
    {
      "cell_type": "markdown",
      "metadata": {
        "id": "Em5xXkl6dIfT"
      },
      "source": [
        "rmse() 함수는 추천 시스템의 성능 평가 정보를 제공한다. 추천 예측 평점과 실제 평점과의 차이"
      ]
    },
    {
      "cell_type": "code",
      "metadata": {
        "colab": {
          "base_uri": "https://localhost:8080/"
        },
        "id": "ygQv6ktvctL0",
        "outputId": "1aa47008-6d64-4f6c-a036-c64750938ba0"
      },
      "source": [
        "accuracy.rmse(predictions)"
      ],
      "execution_count": 17,
      "outputs": [
        {
          "output_type": "stream",
          "text": [
            "RMSE: 0.9475\n"
          ],
          "name": "stdout"
        },
        {
          "output_type": "execute_result",
          "data": {
            "text/plain": [
              "0.9475032491321169"
            ]
          },
          "metadata": {
            "tags": []
          },
          "execution_count": 17
        }
      ]
    },
    {
      "cell_type": "markdown",
      "metadata": {
        "id": "MhO1FsdzpMi-"
      },
      "source": [
        "## Surprise를 이용한 개인화 영화 추천 시스템 구축"
      ]
    },
    {
      "cell_type": "code",
      "metadata": {
        "colab": {
          "base_uri": "https://localhost:8080/"
        },
        "id": "qQctlPuIdFhI",
        "outputId": "b7dab8bf-174b-49e1-86c4-b20ff432ff4b"
      },
      "source": [
        "from google.colab import drive\n",
        "drive.mount('/content/drive')"
      ],
      "execution_count": 18,
      "outputs": [
        {
          "output_type": "stream",
          "text": [
            "Mounted at /content/drive\n"
          ],
          "name": "stdout"
        }
      ]
    },
    {
      "cell_type": "code",
      "metadata": {
        "id": "vX2mxjoWqGBn"
      },
      "source": [
        "import pandas as pd\n",
        "import numpy as np\n",
        "\n",
        "movies = pd.read_csv('/content/drive/MyDrive/datasets/ml-latest-small/movies.csv')\n",
        "ratings = pd.read_csv('/content/drive/MyDrive/datasets/ml-latest-small/ratings.csv')"
      ],
      "execution_count": 19,
      "outputs": []
    },
    {
      "cell_type": "markdown",
      "metadata": {
        "id": "kcd1Cy7tqP6E"
      },
      "source": [
        "Surprise는 데이터 세트를 train_test_split()을 이용해 내부에서 사용하는 TrainSet 클래스 객체로 변환하지 않으면 fit()을 사용할 수가 없다.  \n",
        "DatasetAutoFolds 클래스를 이용해 데이터 세트 전체를 학습 데이터로 사용할 수 있다. (상당히 번거롭네...?)"
      ]
    },
    {
      "cell_type": "code",
      "metadata": {
        "id": "Ta1OvarHqL5M"
      },
      "source": [
        "# ratings_noh.csv 파일로 unload 시 index 와 header를 모두 제거한 새로운 파일 생성.  \n",
        "ratings.to_csv('/content/drive/MyDrive/datasets/ml-latest-small/ratings_noh.csv', index=False, header=False)"
      ],
      "execution_count": 21,
      "outputs": []
    },
    {
      "cell_type": "code",
      "metadata": {
        "id": "uivf91LHquxC"
      },
      "source": [
        "from surprise.dataset import DatasetAutoFolds\n",
        "from surprise import Reader\n",
        "\n",
        "reader = Reader(line_format='user item rating timestamp', sep=',', rating_scale=(0.5, 5))\n",
        "# DatasetAutoFolds 클래스를 ratings_noh.csv 파일 기반으로 생성. \n",
        "data_folds = DatasetAutoFolds(ratings_file='/content/drive/MyDrive/datasets/ml-latest-small/ratings_noh.csv', reader=reader)\n",
        "\n",
        "#전체 데이터를 학습데이터로 생성함. \n",
        "trainset = data_folds.build_full_trainset()"
      ],
      "execution_count": 23,
      "outputs": []
    },
    {
      "cell_type": "markdown",
      "metadata": {
        "id": "cSXTVuAOvJ9t"
      },
      "source": [
        "SVD를 이용한 학습"
      ]
    },
    {
      "cell_type": "code",
      "metadata": {
        "colab": {
          "base_uri": "https://localhost:8080/"
        },
        "id": "A9-T9X19rYPS",
        "outputId": "7b27486f-8de7-46d5-8df5-b83229568212"
      },
      "source": [
        "algo = SVD(n_epochs=20, n_factors=50, random_state=0)\n",
        "algo.fit(trainset)"
      ],
      "execution_count": 24,
      "outputs": [
        {
          "output_type": "execute_result",
          "data": {
            "text/plain": [
              "<surprise.prediction_algorithms.matrix_factorization.SVD at 0x7fb5d5f7f6d0>"
            ]
          },
          "metadata": {
            "tags": []
          },
          "execution_count": 24
        }
      ]
    },
    {
      "cell_type": "markdown",
      "metadata": {
        "id": "tS4OXuszsdOD"
      },
      "source": [
        "### movieId 42인 영화에 대해서 userId 9 사용자의 추천 예상 평점"
      ]
    },
    {
      "cell_type": "code",
      "metadata": {
        "colab": {
          "base_uri": "https://localhost:8080/"
        },
        "id": "995YJJXCrwBG",
        "outputId": "31e1d709-22f5-4feb-ce70-902eaae7b82b"
      },
      "source": [
        "# userId=9 의 movieId 데이터 추출하여 movieId=42 데이터가 있는지 확인. \n",
        "movieIds = ratings[ratings['userId']==9]['movieId']\n",
        "if movieIds[movieIds==42].count() == 0:\n",
        "    print('사용자 아이디 9는 영화 아이디 42의 평점 없음')\n",
        "\n",
        "print(movies[movies['movieId']==42])"
      ],
      "execution_count": 25,
      "outputs": [
        {
          "output_type": "stream",
          "text": [
            "사용자 아이디 9는 영화 아이디 42의 평점 없음\n",
            "    movieId                   title              genres\n",
            "38       42  Dead Presidents (1995)  Action|Crime|Drama\n"
          ],
          "name": "stdout"
        }
      ]
    },
    {
      "cell_type": "code",
      "metadata": {
        "colab": {
          "base_uri": "https://localhost:8080/"
        },
        "id": "h7S3a4XRsESX",
        "outputId": "7f188c15-5d19-423e-9696-ad3030c30813"
      },
      "source": [
        "uid = str(9)\n",
        "iid = str(42)\n",
        "\n",
        "pred = algo.predict(uid, iid, verbose=True)"
      ],
      "execution_count": 26,
      "outputs": [
        {
          "output_type": "stream",
          "text": [
            "user: 9          item: 42         r_ui = None   est = 3.13   {'was_impossible': False}\n"
          ],
          "name": "stdout"
        }
      ]
    },
    {
      "cell_type": "markdown",
      "metadata": {
        "id": "89nE1oNKvN2L"
      },
      "source": [
        "사용자 9가 평점을 매기지 않은 영화들 중에서 추천을 해보자"
      ]
    },
    {
      "cell_type": "code",
      "metadata": {
        "colab": {
          "base_uri": "https://localhost:8080/"
        },
        "id": "f7kwIUjvskvZ",
        "outputId": "65c286d3-aa18-4a51-e1ac-d90bc2a1a38d"
      },
      "source": [
        "def get_unseen_surprise(ratings, movies, userId):\n",
        "    #입력값으로 들어온 userId에 해당하는 사용자가 평점을 매긴 모든 영화를 리스트로 생성\n",
        "    seen_movies = ratings[ratings['userId']== userId]['movieId'].tolist()\n",
        "    \n",
        "    # 모든 영화들의 movieId를 리스트로 생성. \n",
        "    total_movies = movies['movieId'].tolist()\n",
        "    \n",
        "    # 모든 영화들의 movieId중 이미 평점을 매긴 영화의 movieId를 제외하여 리스트로 생성\n",
        "    unseen_movies= [movie for movie in total_movies if movie not in seen_movies]\n",
        "    print('평점 매긴 영화수:',len(seen_movies), '추천대상 영화수:',len(unseen_movies), \\\n",
        "          '전체 영화수:',len(total_movies))\n",
        "    \n",
        "    return unseen_movies\n",
        "\n",
        "unseen_movies = get_unseen_surprise(ratings, movies, 9)"
      ],
      "execution_count": 27,
      "outputs": [
        {
          "output_type": "stream",
          "text": [
            "평점 매긴 영화수: 46 추천대상 영화수: 9696 전체 영화수: 9742\n"
          ],
          "name": "stdout"
        }
      ]
    },
    {
      "cell_type": "code",
      "metadata": {
        "colab": {
          "base_uri": "https://localhost:8080/"
        },
        "id": "jHMeKnt3uSwC",
        "outputId": "9e2d42f5-59ff-4748-a1d2-a4d4c1f15e6c"
      },
      "source": [
        "def recomm_movie_by_surprise(algo, userId, unseen_movies, top_n=10):\n",
        "    # 알고리즘 객체의 predict() 메서드를 평점이 없는 영화에 반복 수행한 후 결과를 list 객체로 저장\n",
        "    predictions = [algo.predict(str(userId), str(movieId)) for movieId in unseen_movies]\n",
        "    \n",
        "    # predictions list 객체는 surprise의 Predictions 객체를 원소로 가지고 있음.\n",
        "    # [Prediction(uid='9', iid='1', est=3.69), Prediction(uid='9', iid='2', est=2.98),,,,]\n",
        "    # 이를 est 값으로 정렬하기 위해서 아래의 sortkey_est 함수를 정의함.\n",
        "    # sortkey_est 함수는 list 객체의 sort() 함수의 키 값으로 사용되어 정렬 수행.\n",
        "    def sortkey_est(pred):\n",
        "        return pred.est\n",
        "    \n",
        "    # sortkey_est( ) 반환값의 내림 차순으로 정렬 수행하고 top_n개의 최상위 값 추출.\n",
        "    predictions.sort(key=sortkey_est, reverse=True)\n",
        "    top_predictions= predictions[:top_n]\n",
        "    \n",
        "    # top_n으로 추출된 영화의 정보 추출. 영화 아이디, 추천 예상 평점, 제목 추출\n",
        "    top_movie_ids = [ int(pred.iid) for pred in top_predictions]\n",
        "    top_movie_rating = [ pred.est for pred in top_predictions]\n",
        "    top_movie_titles = movies[movies.movieId.isin(top_movie_ids)]['title']\n",
        "    top_movie_preds = [ (id, title, rating) for id, title, rating in zip(top_movie_ids, top_movie_titles, top_movie_rating)]\n",
        "    \n",
        "    return top_movie_preds\n",
        "\n",
        "unseen_movies = get_unseen_surprise(ratings, movies, 9)\n",
        "top_movie_preds = recomm_movie_by_surprise(algo, 9, unseen_movies, top_n=10)\n",
        "print('##### Top-10 추천 영화 리스트 #####')\n",
        "\n",
        "for top_movie in top_movie_preds:\n",
        "    print(top_movie[1], \":\", top_movie[2])"
      ],
      "execution_count": 28,
      "outputs": [
        {
          "output_type": "stream",
          "text": [
            "평점 매긴 영화수: 46 추천대상 영화수: 9696 전체 영화수: 9742\n",
            "##### Top-10 추천 영화 리스트 #####\n",
            "Usual Suspects, The (1995) : 4.306302135700814\n",
            "Star Wars: Episode IV - A New Hope (1977) : 4.281663842987387\n",
            "Pulp Fiction (1994) : 4.278152632122759\n",
            "Silence of the Lambs, The (1991) : 4.226073566460876\n",
            "Godfather, The (1972) : 4.1918097904381995\n",
            "Streetcar Named Desire, A (1951) : 4.154746591122658\n",
            "Star Wars: Episode V - The Empire Strikes Back (1980) : 4.122016128534504\n",
            "Star Wars: Episode VI - Return of the Jedi (1983) : 4.108009609093436\n",
            "Goodfellas (1990) : 4.083464936588478\n",
            "Glory (1989) : 4.07887165526957\n"
          ],
          "name": "stdout"
        }
      ]
    },
    {
      "cell_type": "code",
      "metadata": {
        "id": "bmQhFz9hvA3o"
      },
      "source": [
        ""
      ],
      "execution_count": null,
      "outputs": []
    }
  ]
}